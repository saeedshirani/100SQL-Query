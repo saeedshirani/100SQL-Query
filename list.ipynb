{
 "cells": [
  {
   "cell_type": "code",
   "execution_count": 1,
   "metadata": {},
   "outputs": [],
   "source": [
    "import pandas as pd\n"
   ]
  },
  {
   "cell_type": "code",
   "execution_count": 2,
   "metadata": {},
   "outputs": [
    {
     "name": "stdout",
     "output_type": "stream",
     "text": [
      " Volume in drive C has no label.\n",
      " Volume Serial Number is F4D9-8D74\n",
      "\n",
      " Directory of c:\\Users\\saeed\\OneDrive\\Documents\\Github\\100SQL-Query\n",
      "\n",
      "03/21/2024  01:59 PM    <DIR>          .\n",
      "03/21/2024  01:59 PM    <DIR>          ..\n",
      "03/21/2024  01:57 PM    <DIR>          Brazilian E-Commerce Public Dataset by Olist\n",
      "03/21/2024  01:58 PM               682 csv-to-database.py\n",
      "03/13/2024  11:01 PM            15,296 Final repository is look like this.docx\n",
      "03/21/2024  01:59 PM               699 list.ipynb\n",
      "03/20/2024  05:27 PM    <DIR>          Marketing Funnel by Olist\n",
      "03/20/2024  12:12 PM               131 README.md\n",
      "03/13/2024  10:56 PM            17,360 Todo.docx\n",
      "               5 File(s)         34,168 bytes\n",
      "               4 Dir(s)  42,467,745,792 bytes free\n"
     ]
    }
   ],
   "source": [
    "ls "
   ]
  },
  {
   "cell_type": "code",
   "execution_count": 3,
   "metadata": {},
   "outputs": [
    {
     "name": "stdout",
     "output_type": "stream",
     "text": [
      "c:\\Users\\saeed\\OneDrive\\Documents\\Github\\100SQL-Query\\Brazilian E-Commerce Public Dataset by Olist\n"
     ]
    },
    {
     "name": "stderr",
     "output_type": "stream",
     "text": [
      "c:\\Users\\saeed\\AppData\\Local\\Programs\\Python\\Python311\\Lib\\site-packages\\IPython\\core\\magics\\osm.py:417: UserWarning: using dhist requires you to install the `pickleshare` library.\n",
      "  self.shell.db['dhist'] = compress_dhist(dhist)[-100:]\n"
     ]
    }
   ],
   "source": [
    "cd Brazilian E-Commerce Public Dataset by Olist"
   ]
  },
  {
   "cell_type": "code",
   "execution_count": 4,
   "metadata": {},
   "outputs": [
    {
     "name": "stdout",
     "output_type": "stream",
     "text": [
      " Volume in drive C has no label.\n",
      " Volume Serial Number is F4D9-8D74\n",
      "\n",
      " Directory of c:\\Users\\saeed\\OneDrive\\Documents\\Github\\100SQL-Query\\Brazilian E-Commerce Public Dataset by Olist\n",
      "\n",
      "03/21/2024  01:57 PM    <DIR>          .\n",
      "03/21/2024  01:57 PM    <DIR>          ..\n",
      "10/01/2021  07:08 PM         9,033,957 olist_customers_dataset.csv\n",
      "10/01/2021  07:08 PM        61,273,883 olist_geolocation_dataset.csv\n",
      "10/01/2021  07:08 PM        15,438,671 olist_order_items_dataset.csv\n",
      "10/01/2021  07:08 PM         5,777,138 olist_order_payments_dataset.csv\n",
      "10/01/2021  07:08 PM        14,451,670 olist_order_reviews_dataset.csv\n",
      "10/01/2021  07:08 PM        17,654,914 olist_orders_dataset.csv\n",
      "10/01/2021  07:08 PM         2,379,446 olist_products_dataset.csv\n",
      "10/01/2021  07:08 PM           174,703 olist_sellers_dataset.csv\n",
      "10/01/2021  07:08 PM             2,613 product_category_name_translation.csv\n",
      "03/21/2024  01:57 PM           209,677 schema.png\n",
      "              10 File(s)    126,396,672 bytes\n",
      "               2 Dir(s)  42,467,598,336 bytes free\n"
     ]
    }
   ],
   "source": [
    "ls "
   ]
  },
  {
   "cell_type": "markdown",
   "metadata": {},
   "source": []
  },
  {
   "cell_type": "code",
   "execution_count": null,
   "metadata": {},
   "outputs": [],
   "source": []
  }
 ],
 "metadata": {
  "kernelspec": {
   "display_name": "Python 3",
   "language": "python",
   "name": "python3"
  },
  "language_info": {
   "codemirror_mode": {
    "name": "ipython",
    "version": 3
   },
   "file_extension": ".py",
   "mimetype": "text/x-python",
   "name": "python",
   "nbconvert_exporter": "python",
   "pygments_lexer": "ipython3",
   "version": "3.11.0"
  }
 },
 "nbformat": 4,
 "nbformat_minor": 2
}
